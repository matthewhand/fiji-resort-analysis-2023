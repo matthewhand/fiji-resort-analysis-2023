{
  "nbformat": 4,
  "nbformat_minor": 5,
  "metadata": {
    "noteable-chatgpt": {
      "create_notebook": {
        "openai_conversation_id": "a4e9db1c-1a5a-53a9-8964-222acf57b882",
        "openai_ephemeral_user_id": "d126fb7f-43e4-5266-8325-4db780880a7e",
        "openai_subdivision1_iso_code": "AU-ACT"
      }
    }
  },
  "cells": []
}