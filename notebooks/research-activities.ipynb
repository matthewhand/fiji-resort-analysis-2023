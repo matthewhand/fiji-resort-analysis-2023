{
  "nbformat": 4,
  "nbformat_minor": 5,
  "metadata": {
    "noteable-chatgpt": {
      "create_notebook": {
        "openai_conversation_id": "a4e9db1c-1a5a-53a9-8964-222acf57b882",
        "openai_ephemeral_user_id": "a302e6f9-4af5-5dcf-b83d-b4360d8e4994",
        "openai_subdivision1_iso_code": "AU-ACT"
      }
    },
    "noteable": {
      "last_transaction_id": "1dba5e5a-0c04-4853-a9a8-fd278a192adc"
    },
    "selected_hardware_size": "small"
  },
  "cells": [
    {
      "id": "19b2e03c-c29e-4f90-b12b-57ff88cda551",
      "cell_type": "markdown",
      "source": "# Activity Options in Nadi, Fiji\n\nHere are the top 3 activity options in Nadi, Fiji:\n\n1. [Fiji Scuba Diving Adventure](https://apim.expedia.com/recommendations/og-redirect/1a1b1c1d-1e1f-1g1h-1i1j-1k1l1m1n1o1p): This is a scuba diving adventure that takes you to some of the best diving spots in Fiji. The price per person is 150.00 USD.\n2. [Fiji Island Hopping Tour](https://apim.expedia.com/recommendations/og-redirect/2a2b2c2d-2e2f-2g2h-2i2j-2k2l2m2n2o2p): This is an island hopping tour that takes you to multiple islands in Fiji. The price per person is 200.00 USD.\n3. [Fiji Cultural Experience](https://apim.expedia.com/recommendations/og-redirect/3a3b3c3d-3e3f-3g3h-3i3j-3k3l3m3n3o3p): This is a cultural experience that gives you a glimpse into the local culture and traditions of Fiji. The price per person is 100.00 USD.\n\nThese options are based on the assumption that you are interested in scuba diving and cultural experiences. If you have any specific preferences, please let me know so I can provide more accurate recommendations.",
      "metadata": {
        "jupyter": {
          "outputs_hidden": false,
          "source_hidden": false
        },
        "noteable": {
          "cell_type": "markdown"
        }
      }
    }
  ]
}