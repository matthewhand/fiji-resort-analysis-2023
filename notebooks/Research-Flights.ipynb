{
  "nbformat": 4,
  "nbformat_minor": 5,
  "metadata": {
    "noteable-chatgpt": {
      "create_notebook": {
        "openai_conversation_id": "a4e9db1c-1a5a-53a9-8964-222acf57b882",
        "openai_ephemeral_user_id": "a302e6f9-4af5-5dcf-b83d-b4360d8e4994",
        "openai_subdivision1_iso_code": "AU-ACT"
      }
    },
    "noteable": {
      "last_transaction_id": "eeec8d89-52e7-457f-8ae4-879fbab840a4"
    }
  },
  "cells": [
    {
      "id": "3b22a2f8-c8c4-456b-9e3d-b367b5488b9d",
      "cell_type": "markdown",
      "source": "# Research - Flights\n\nIn this notebook, we will record the research findings for flight options from Sydney to Bali, Indonesia.\n\n## Flight Options\n\nHere are some flight options for the trip from Sydney to Bali, Indonesia on August 1st:\n\n1. [AirAsia X - Flight 289 & AirAsia - Flight 378](https://apim.expedia.com/recommendations/og-redirect/9130f404-0e7a-4492-97b3-c3ad025db2a4)\n   - Departure from Sydney (SYD) to Kuala Lumpur (KUL) and then from Kuala Lumpur (KUL) to Bali (DPS).\n   - The flight has 1 stop and the total duration is 23 hours and 55 minutes.\n   - The departure time is at 08:45 PM and the arrival time is at 06:40 PM.\n   - The price per ticket is $239.32 USD.\n\n2. [AirAsia X - Flight 289 & AirAsia X - Flight 798](https://apim.expedia.com/recommendations/og-redirect/9f8651b9-e27a-4948-a219-6a7f3a9b1983)\n   - Departure from Sydney (SYD) to Kuala Lumpur (KUL) and then from Kuala Lumpur (KUL) to Bali (DPS).\n   - The flight has 1 stop and the total duration is 17 hours and 15 minutes.\n   - The departure time is at 08:45 PM and the arrival time is at 12:00 PM.\n   - The price per ticket is $239.32 USD.\n\n3. [AirAsia X - Flight 223 & Indonesia AirAsia - Flight 555](https://apim.expedia.com/recommendations/og-redirect/c20e3b58-1a86-49b7-9c57-4ffd7b76c9f8)\n   - Departure from Sydney (SYD) to Kuala Lumpur (KUL) and then from Kuala Lumpur (KUL) to Bali (DPS).\n   - The flight has 1 stop and the total duration is 17 hours and 55 minutes.\n   - The departure time is at 09:30 AM and the arrival time is at 01:25 AM.\n   - The price per ticket is $239.32 USD.",
      "metadata": {
        "jupyter": {
          "outputs_hidden": false,
          "source_hidden": false
        },
        "noteable": {
          "cell_type": "markdown"
        }
      }
    },
    {
      "id": "1a5aca97-7ea2-43f4-bbd0-3428b383f850",
      "cell_type": "code",
      "metadata": {
        "jupyter": {
          "outputs_hidden": false,
          "source_hidden": false
        },
        "noteable": {
          "cell_type": "code",
          "output_collection_id": "def1359b-a39f-4d76-bb67-1417f92fe047"
        },
        "ExecuteTime": {
          "end_time": "2023-05-29T23:31:04.179127+00:00",
          "start_time": "2023-05-29T23:31:03.972796+00:00"
        }
      },
      "execution_count": null,
      "source": "import os\nimport json\n\ndef read_notebook(notebook_path):\n    with open(notebook_path, 'r') as f:\n        notebook = json.load(f)\n    return notebook\n\nnotebook_files = [f for f in os.listdir('.') if f.endswith('.ipynb')]\nnotebooks = {f: read_notebook(f) for f in notebook_files}\n\nnotebooks",
      "outputs": []
    }
  ]
}