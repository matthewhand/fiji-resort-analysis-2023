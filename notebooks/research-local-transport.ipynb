{
  "nbformat": 4,
  "nbformat_minor": 5,
  "metadata": {
    "noteable-chatgpt": {
      "create_notebook": {
        "openai_conversation_id": "a4e9db1c-1a5a-53a9-8964-222acf57b882",
        "openai_ephemeral_user_id": "a302e6f9-4af5-5dcf-b83d-b4360d8e4994",
        "openai_subdivision1_iso_code": "AU-ACT"
      }
    },
    "noteable": {
      "last_transaction_id": "bb904364-6a29-49fe-99a4-bb3be2b8d4f9"
    },
    "selected_hardware_size": "small"
  },
  "cells": [
    {
      "id": "d43a801e-ee96-4c53-b961-aa09f9b8932a",
      "cell_type": "markdown",
      "source": "# Local Transport Options in Nadi, Fiji\n\nHere are the top 3 local transport options in Nadi, Fiji:\n\n1. [Nadi Taxi Service](https://www.naditaxiservice.com/): This is a local taxi service that operates in Nadi. They offer airport transfers, city tours, and inter-city travel. The price varies depending on the distance and duration of the trip.\n2. [Fiji Bus Service](http://www.fijibusservice.com/): This is a public bus service that operates in Nadi. They offer regular services to various parts of the city and surrounding areas. The price is very affordable, making it a good option for budget travelers.\n3. [Fiji Car Rental](https://www.fijicarrental.com/): This is a car rental service that operates in Nadi. They offer a wide range of vehicles for rent, including compact cars, SUVs, and vans. The price varies depending on the type of vehicle and the duration of the rental.\n\nThese options are based on the assumption that you are flexible with the type of transport and price. If you have any specific preferences, please let me know so I can provide more accurate recommendations.",
      "metadata": {
        "jupyter": {
          "outputs_hidden": false,
          "source_hidden": false
        },
        "noteable": {
          "cell_type": "markdown"
        }
      }
    }
  ]
}